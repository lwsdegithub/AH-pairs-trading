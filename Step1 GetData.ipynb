{
 "cells": [
  {
   "cell_type": "code",
   "execution_count": 1,
   "metadata": {},
   "outputs": [],
   "source": [
    "import pandas as pd"
   ]
  },
  {
   "cell_type": "code",
   "execution_count": 2,
   "metadata": {},
   "outputs": [],
   "source": [
    "import pandas_datareader as pdr"
   ]
  },
  {
   "cell_type": "code",
   "execution_count": 28,
   "metadata": {},
   "outputs": [],
   "source": [
    "from WindPy import w"
   ]
  },
  {
   "cell_type": "code",
   "execution_count": 42,
   "metadata": {},
   "outputs": [],
   "source": [
    "import time"
   ]
  },
  {
   "cell_type": "code",
   "execution_count": 13,
   "metadata": {},
   "outputs": [],
   "source": [
    "AH_list = pd.read_excel(\"AH股.xlsx\",sheet_name='AH股标的筛选后',usecols=['H_code','H_name','A_code','A_name'])"
   ]
  },
  {
   "cell_type": "code",
   "execution_count": 16,
   "metadata": {},
   "outputs": [
    {
     "data": {
      "text/html": [
       "<div>\n",
       "<style scoped>\n",
       "    .dataframe tbody tr th:only-of-type {\n",
       "        vertical-align: middle;\n",
       "    }\n",
       "\n",
       "    .dataframe tbody tr th {\n",
       "        vertical-align: top;\n",
       "    }\n",
       "\n",
       "    .dataframe thead th {\n",
       "        text-align: right;\n",
       "    }\n",
       "</style>\n",
       "<table border=\"1\" class=\"dataframe\">\n",
       "  <thead>\n",
       "    <tr style=\"text-align: right;\">\n",
       "      <th></th>\n",
       "      <th>H_code</th>\n",
       "      <th>H_name</th>\n",
       "      <th>A_code</th>\n",
       "      <th>A_name</th>\n",
       "    </tr>\n",
       "  </thead>\n",
       "  <tbody>\n",
       "    <tr>\n",
       "      <th>0</th>\n",
       "      <td>0038.HK</td>\n",
       "      <td>第一拖拉机股份</td>\n",
       "      <td>601038.SH</td>\n",
       "      <td>一拖股份</td>\n",
       "    </tr>\n",
       "    <tr>\n",
       "      <th>1</th>\n",
       "      <td>0107.HK</td>\n",
       "      <td>四川成渝高速公路</td>\n",
       "      <td>601107.SH</td>\n",
       "      <td>四川成渝</td>\n",
       "    </tr>\n",
       "    <tr>\n",
       "      <th>2</th>\n",
       "      <td>0168.HK</td>\n",
       "      <td>青岛啤酒股份</td>\n",
       "      <td>600600.SH</td>\n",
       "      <td>青岛啤酒</td>\n",
       "    </tr>\n",
       "    <tr>\n",
       "      <th>3</th>\n",
       "      <td>0177.HK</td>\n",
       "      <td>江苏宁沪高速公路</td>\n",
       "      <td>600377.SH</td>\n",
       "      <td>宁沪高速</td>\n",
       "    </tr>\n",
       "    <tr>\n",
       "      <th>4</th>\n",
       "      <td>0323.HK</td>\n",
       "      <td>马鞍山钢铁股份</td>\n",
       "      <td>600808.SH</td>\n",
       "      <td>马钢股份</td>\n",
       "    </tr>\n",
       "    <tr>\n",
       "      <th>...</th>\n",
       "      <td>...</td>\n",
       "      <td>...</td>\n",
       "      <td>...</td>\n",
       "      <td>...</td>\n",
       "    </tr>\n",
       "    <tr>\n",
       "      <th>77</th>\n",
       "      <td>6178.HK</td>\n",
       "      <td>光大证券</td>\n",
       "      <td>601788.SH</td>\n",
       "      <td>光大证券</td>\n",
       "    </tr>\n",
       "    <tr>\n",
       "      <th>78</th>\n",
       "      <td>6818.HK</td>\n",
       "      <td>中国光大银行</td>\n",
       "      <td>601818.SH</td>\n",
       "      <td>光大银行</td>\n",
       "    </tr>\n",
       "    <tr>\n",
       "      <th>79</th>\n",
       "      <td>6837.HK</td>\n",
       "      <td>海通证券</td>\n",
       "      <td>600837.SH</td>\n",
       "      <td>海通证券</td>\n",
       "    </tr>\n",
       "    <tr>\n",
       "      <th>80</th>\n",
       "      <td>6881.HK</td>\n",
       "      <td>中国银河</td>\n",
       "      <td>601881.SH</td>\n",
       "      <td>中国银河</td>\n",
       "    </tr>\n",
       "    <tr>\n",
       "      <th>81</th>\n",
       "      <td>6886.HK</td>\n",
       "      <td>HTSC</td>\n",
       "      <td>601688.SH</td>\n",
       "      <td>华泰证券</td>\n",
       "    </tr>\n",
       "  </tbody>\n",
       "</table>\n",
       "<p>82 rows × 4 columns</p>\n",
       "</div>"
      ],
      "text/plain": [
       "     H_code    H_name     A_code A_name\n",
       "0   0038.HK   第一拖拉机股份  601038.SH   一拖股份\n",
       "1   0107.HK  四川成渝高速公路  601107.SH   四川成渝\n",
       "2   0168.HK    青岛啤酒股份  600600.SH   青岛啤酒\n",
       "3   0177.HK  江苏宁沪高速公路  600377.SH   宁沪高速\n",
       "4   0323.HK   马鞍山钢铁股份  600808.SH   马钢股份\n",
       "..      ...       ...        ...    ...\n",
       "77  6178.HK      光大证券  601788.SH   光大证券\n",
       "78  6818.HK    中国光大银行  601818.SH   光大银行\n",
       "79  6837.HK      海通证券  600837.SH   海通证券\n",
       "80  6881.HK      中国银河  601881.SH   中国银河\n",
       "81  6886.HK      HTSC  601688.SH   华泰证券\n",
       "\n",
       "[82 rows x 4 columns]"
      ]
     },
     "execution_count": 16,
     "metadata": {},
     "output_type": "execute_result"
    }
   ],
   "source": [
    "AH_list.dropna(inplace=True)\n",
    "AH_list"
   ]
  },
  {
   "cell_type": "code",
   "execution_count": 29,
   "metadata": {},
   "outputs": [
    {
     "name": "stdout",
     "output_type": "stream",
     "text": [
      "Welcome to use Wind Quant API for Python (WindPy)!\n",
      "\n",
      "COPYRIGHT (C) 2017 WIND INFORMATION CO., LTD. ALL RIGHTS RESERVED.\n",
      "IN NO CIRCUMSTANCE SHALL WIND BE RESPONSIBLE FOR ANY DAMAGES OR LOSSES CAUSED BY USING WIND QUANT API FOR Python.\n"
     ]
    },
    {
     "data": {
      "text/plain": [
       ".ErrorCode=0\n",
       ".Data=[OK!]"
      ]
     },
     "execution_count": 29,
     "metadata": {},
     "output_type": "execute_result"
    }
   ],
   "source": [
    "w.start()"
   ]
  },
  {
   "cell_type": "code",
   "execution_count": 46,
   "metadata": {},
   "outputs": [],
   "source": [
    "for index,row in AH_list.iterrows():\n",
    "    Hcode = row['H_code']\n",
    "    Acode = row['A_code']\n",
    "    A_name = row['A_name']\n",
    "    WindData = w.wsd([Hcode,Acode], \"open\", \"2018-01-01\", \"2020-04-16\", \"PriceAdj=F\",usedf=True)\n",
    "    ##请求成功\n",
    "    if WindData[0] is 0:\n",
    "        data_df = WindData[1]\n",
    "        data_df.dropna(inplace = True)\n",
    "        data_df.to_excel('./data/'+A_name+'.xlsx')\n",
    "    else:\n",
    "        print(\"获取数据出错，当前获取到\"+A_name)"
   ]
  },
  {
   "cell_type": "code",
   "execution_count": 27,
   "metadata": {},
   "outputs": [
    {
     "data": {
      "text/html": [
       "<div>\n",
       "<style scoped>\n",
       "    .dataframe tbody tr th:only-of-type {\n",
       "        vertical-align: middle;\n",
       "    }\n",
       "\n",
       "    .dataframe tbody tr th {\n",
       "        vertical-align: top;\n",
       "    }\n",
       "\n",
       "    .dataframe thead th {\n",
       "        text-align: right;\n",
       "    }\n",
       "</style>\n",
       "<table border=\"1\" class=\"dataframe\">\n",
       "  <thead>\n",
       "    <tr style=\"text-align: right;\">\n",
       "      <th></th>\n",
       "      <th>High</th>\n",
       "      <th>Low</th>\n",
       "      <th>Open</th>\n",
       "      <th>Close</th>\n",
       "      <th>Volume</th>\n",
       "      <th>Adj Close</th>\n",
       "    </tr>\n",
       "    <tr>\n",
       "      <th>Date</th>\n",
       "      <th></th>\n",
       "      <th></th>\n",
       "      <th></th>\n",
       "      <th></th>\n",
       "      <th></th>\n",
       "      <th></th>\n",
       "    </tr>\n",
       "  </thead>\n",
       "  <tbody>\n",
       "    <tr>\n",
       "      <th>2015-04-20</th>\n",
       "      <td>10.78</td>\n",
       "      <td>10.34</td>\n",
       "      <td>10.66</td>\n",
       "      <td>10.46</td>\n",
       "      <td>3224235.0</td>\n",
       "      <td>7.781352</td>\n",
       "    </tr>\n",
       "    <tr>\n",
       "      <th>2015-04-21</th>\n",
       "      <td>10.54</td>\n",
       "      <td>10.24</td>\n",
       "      <td>10.52</td>\n",
       "      <td>10.40</td>\n",
       "      <td>6027871.0</td>\n",
       "      <td>7.736718</td>\n",
       "    </tr>\n",
       "    <tr>\n",
       "      <th>2015-04-22</th>\n",
       "      <td>10.62</td>\n",
       "      <td>10.30</td>\n",
       "      <td>10.32</td>\n",
       "      <td>10.54</td>\n",
       "      <td>3463401.0</td>\n",
       "      <td>7.840866</td>\n",
       "    </tr>\n",
       "    <tr>\n",
       "      <th>2015-04-23</th>\n",
       "      <td>10.90</td>\n",
       "      <td>10.68</td>\n",
       "      <td>10.80</td>\n",
       "      <td>10.70</td>\n",
       "      <td>4186001.0</td>\n",
       "      <td>7.959892</td>\n",
       "    </tr>\n",
       "    <tr>\n",
       "      <th>2015-04-24</th>\n",
       "      <td>10.78</td>\n",
       "      <td>10.34</td>\n",
       "      <td>10.36</td>\n",
       "      <td>10.72</td>\n",
       "      <td>4148658.0</td>\n",
       "      <td>7.974770</td>\n",
       "    </tr>\n",
       "    <tr>\n",
       "      <th>...</th>\n",
       "      <td>...</td>\n",
       "      <td>...</td>\n",
       "      <td>...</td>\n",
       "      <td>...</td>\n",
       "      <td>...</td>\n",
       "      <td>...</td>\n",
       "    </tr>\n",
       "    <tr>\n",
       "      <th>2020-04-08</th>\n",
       "      <td>8.33</td>\n",
       "      <td>8.10</td>\n",
       "      <td>8.10</td>\n",
       "      <td>8.28</td>\n",
       "      <td>3064834.0</td>\n",
       "      <td>8.280000</td>\n",
       "    </tr>\n",
       "    <tr>\n",
       "      <th>2020-04-09</th>\n",
       "      <td>8.58</td>\n",
       "      <td>8.30</td>\n",
       "      <td>8.31</td>\n",
       "      <td>8.50</td>\n",
       "      <td>4420000.0</td>\n",
       "      <td>8.500000</td>\n",
       "    </tr>\n",
       "    <tr>\n",
       "      <th>2020-04-14</th>\n",
       "      <td>8.79</td>\n",
       "      <td>8.46</td>\n",
       "      <td>8.50</td>\n",
       "      <td>8.65</td>\n",
       "      <td>5693897.0</td>\n",
       "      <td>8.650000</td>\n",
       "    </tr>\n",
       "    <tr>\n",
       "      <th>2020-04-15</th>\n",
       "      <td>8.75</td>\n",
       "      <td>8.36</td>\n",
       "      <td>8.71</td>\n",
       "      <td>8.43</td>\n",
       "      <td>5205886.0</td>\n",
       "      <td>8.430000</td>\n",
       "    </tr>\n",
       "    <tr>\n",
       "      <th>2020-04-16</th>\n",
       "      <td>8.53</td>\n",
       "      <td>8.32</td>\n",
       "      <td>8.35</td>\n",
       "      <td>8.42</td>\n",
       "      <td>3303910.0</td>\n",
       "      <td>8.420000</td>\n",
       "    </tr>\n",
       "  </tbody>\n",
       "</table>\n",
       "<p>1234 rows × 6 columns</p>\n",
       "</div>"
      ],
      "text/plain": [
       "             High    Low   Open  Close     Volume  Adj Close\n",
       "Date                                                        \n",
       "2015-04-20  10.78  10.34  10.66  10.46  3224235.0   7.781352\n",
       "2015-04-21  10.54  10.24  10.52  10.40  6027871.0   7.736718\n",
       "2015-04-22  10.62  10.30  10.32  10.54  3463401.0   7.840866\n",
       "2015-04-23  10.90  10.68  10.80  10.70  4186001.0   7.959892\n",
       "2015-04-24  10.78  10.34  10.36  10.72  4148658.0   7.974770\n",
       "...           ...    ...    ...    ...        ...        ...\n",
       "2020-04-08   8.33   8.10   8.10   8.28  3064834.0   8.280000\n",
       "2020-04-09   8.58   8.30   8.31   8.50  4420000.0   8.500000\n",
       "2020-04-14   8.79   8.46   8.50   8.65  5693897.0   8.650000\n",
       "2020-04-15   8.75   8.36   8.71   8.43  5205886.0   8.430000\n",
       "2020-04-16   8.53   8.32   8.35   8.42  3303910.0   8.420000\n",
       "\n",
       "[1234 rows x 6 columns]"
      ]
     },
     "execution_count": 27,
     "metadata": {},
     "output_type": "execute_result"
    }
   ],
   "source": [
    "pdr.get_data_yahoo('0177.HK')"
   ]
  },
  {
   "cell_type": "code",
   "execution_count": 37,
   "metadata": {},
   "outputs": [],
   "source": [
    "WindData = w.wsd('0038.HK', \"open\", \"2020-04-15\", \"2020-04-16\", \"PriceAdj=F\",usedf=True)"
   ]
  },
  {
   "cell_type": "code",
   "execution_count": 43,
   "metadata": {},
   "outputs": [],
   "source": [
    "(WindData[1]).to_excel(\"./data/\"+\"666.xlsx\")"
   ]
  },
  {
   "cell_type": "code",
   "execution_count": 36,
   "metadata": {},
   "outputs": [
    {
     "data": {
      "text/plain": [
       "[[1.44, 1.4]]"
      ]
     },
     "execution_count": 36,
     "metadata": {},
     "output_type": "execute_result"
    }
   ],
   "source": [
    "WindData.Data"
   ]
  },
  {
   "cell_type": "code",
   "execution_count": null,
   "metadata": {},
   "outputs": [],
   "source": []
  }
 ],
 "metadata": {
  "kernelspec": {
   "display_name": "Python 3",
   "language": "python",
   "name": "python3"
  },
  "language_info": {
   "codemirror_mode": {
    "name": "ipython",
    "version": 3
   },
   "file_extension": ".py",
   "mimetype": "text/x-python",
   "name": "python",
   "nbconvert_exporter": "python",
   "pygments_lexer": "ipython3",
   "version": "3.7.5"
  }
 },
 "nbformat": 4,
 "nbformat_minor": 2
}
